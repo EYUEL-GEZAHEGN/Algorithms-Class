{
 "cells": [
  {
   "cell_type": "code",
   "execution_count": null,
   "id": "a480802f",
   "metadata": {},
   "outputs": [],
   "source": [
    "from collections import deque\n",
    "\n",
    "class MyStack:\n",
    "    def __init__(self):\n",
    "        self.q1 = deque()\n",
    "        self.q2 = deque()\n",
    "\n",
    "    def push(self, x):\n",
    "        self.q2.append(x)\n",
    "        while self.q1:\n",
    "            self.q2.append(self.q1.popleft())\n",
    "        self.q1, self.q2 = self.q2, self.q1\n",
    "\n",
    "    def pop(self):\n",
    "        if self.q1:\n",
    "            return self.q1.popleft()\n",
    "        return None\n",
    "\n",
    "    def top(self):\n",
    "        if self.q1:\n",
    "            return self.q1[0]\n",
    "        return None\n",
    "\n",
    "    def empty(self):\n",
    "        return len(self.q1) == 0\n",
    "    def size(self):\n",
    "        return len(self.q1)\n"
   ]
  }
 ],
 "metadata": {
  "kernelspec": {
   "display_name": "base",
   "language": "python",
   "name": "python3"
  },
  "language_info": {
   "name": "python",
   "version": "3.12.4"
  }
 },
 "nbformat": 4,
 "nbformat_minor": 5
}
