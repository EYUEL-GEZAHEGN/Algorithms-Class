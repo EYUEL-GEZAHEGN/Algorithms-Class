{
 "cells": [
  {
   "cell_type": "code",
   "execution_count": null,
   "id": "47e9ffe7",
   "metadata": {},
   "outputs": [
    {
     "name": "stdout",
     "output_type": "stream",
     "text": [
      "12 11 13 5 6 7 \n",
      "5 6 7 11 12 13 \n"
     ]
    }
   ],
   "source": [
    "def merge(arr, left, mid, right):\n",
    "    n1 = mid - left + 1\n",
    "    n2 = right - mid\n",
    "\n",
    "  \n",
    "    L = [0] * n1\n",
    "    R = [0] * n2\n",
    "\n",
    "    for i in range(n1):\n",
    "        L[i] = arr[left + i]\n",
    "    for j in range(n2):\n",
    "        R[j] = arr[mid + 1 + j]\n",
    "\n",
    "    i = 0  \n",
    "    j = 0 \n",
    "    k = left  \n",
    "\n",
    "    \n",
    "    while i < n1 and j < n2:\n",
    "        if L[i] <= R[j]:\n",
    "            arr[k] = L[i]\n",
    "            i += 1\n",
    "        else:\n",
    "            arr[k] = R[j]\n",
    "            j += 1\n",
    "        k += 1\n",
    "\n",
    "    while i < n1:\n",
    "        arr[k] = L[i]\n",
    "        i += 1\n",
    "        k += 1\n",
    "\n",
    "\n",
    "    while j < n2:\n",
    "        arr[k] = R[j]\n",
    "        j += 1\n",
    "        k += 1\n",
    "\n",
    "def merge_sort(arr, left, right):\n",
    "    if left < right:\n",
    "        mid = (left + right) // 2\n",
    "\n",
    "        merge_sort(arr, left, mid)\n",
    "        merge_sort(arr, mid + 1, right)\n",
    "        merge(arr, left, mid, right)\n",
    "\n",
    "def print_list(arr):\n",
    "    for i in arr:\n",
    "        print(i, end=\" \")\n",
    "    print()\n",
    "\n",
    "#test implementation\n",
    "if __name__ == \"__main__\":\n",
    "    arr = [12, 11, 13, 5, 6, 7]\n",
    "    print_list(arr)\n",
    "    merge_sort(arr, 0, len(arr) - 1)\n",
    "    print_list(arr)"
   ]
  },
  {
   "cell_type": "markdown",
   "id": "869476db",
   "metadata": {},
   "source": [
    "Merge sort basically works by breaking an array into smaller chunks, cutting it in half over and over until you're down to single elements. That part of the process takes about log steps, since each split halves the size. Once everything is split, you start merging the pieces back together in order, and that part takes n steps at every level since you’re touching each item to build the sorted array. So across all levels, you’re doing n work times log n levels, which gives you O(n log n) overall. What’s nice is that this doesn’t really change, even in the worst case—it stays consistent. The only real downside is it needs extra space for the merging."
   ]
  }
 ],
 "metadata": {
  "kernelspec": {
   "display_name": "base",
   "language": "python",
   "name": "python3"
  },
  "language_info": {
   "codemirror_mode": {
    "name": "ipython",
    "version": 3
   },
   "file_extension": ".py",
   "mimetype": "text/x-python",
   "name": "python",
   "nbconvert_exporter": "python",
   "pygments_lexer": "ipython3",
   "version": "3.12.4"
  }
 },
 "nbformat": 4,
 "nbformat_minor": 5
}
