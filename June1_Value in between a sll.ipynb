{
 "cells": [
  {
   "cell_type": "code",
   "execution_count": null,
   "id": "cee4424c",
   "metadata": {},
   "outputs": [],
   "source": [
    "class Node:\n",
    "    def __init__(self, var):\n",
    "        self.val = var\n",
    "        self.next = None\n",
    "\n",
    "class LinkedList:\n",
    "    def __init__(self):\n",
    "        self.head = None\n",
    "\n",
    "    def insert_mid(self, index, var):\n",
    "        new_node = Node(var)\n",
    "        if index == 0:\n",
    "            new_node.next = self.head\n",
    "            self.head = new_node\n",
    "            return\n",
    "\n",
    "        temp = self.head\n",
    "        i = 0\n",
    "        while temp and i < index - 1:\n",
    "            temp = temp.next\n",
    "            i += 1\n",
    "\n",
    "        if temp:\n",
    "            new_node.next = temp.next\n",
    "            temp.next = new_node\n",
    "\n",
    "#"
   ]
  }
 ],
 "metadata": {
  "language_info": {
   "name": "python"
  }
 },
 "nbformat": 4,
 "nbformat_minor": 5
}
