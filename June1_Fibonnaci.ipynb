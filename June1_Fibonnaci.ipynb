{
 "cells": [
  {
   "cell_type": "code",
   "execution_count": null,
   "id": "283122b7",
   "metadata": {},
   "outputs": [],
   "source": [
    "def fibonnaci(n):\n",
    "    if n <= 1:\n",
    "        return n\n",
    "    return fibonnaci(n - 1) + fibonnaci(n - 2)\n"
   ]
  }
 ],
 "metadata": {
  "language_info": {
   "name": "python"
  }
 },
 "nbformat": 4,
 "nbformat_minor": 5
}
