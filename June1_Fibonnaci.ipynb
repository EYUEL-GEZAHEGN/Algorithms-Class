{
 "cells": [
  {
   "cell_type": "code",
   "execution_count": null,
   "id": "283122b7",
   "metadata": {},
   "outputs": [],
   "source": [
    "def fibonnaci(n):\n",
    "    if n <= 1:\n",
    "        return n\n",
    "    return fibonnaci(n - 1) + fibonnaci(n - 2)\n"
   ]
  },
  {
   "cell_type": "markdown",
   "id": "ffc7cc7f",
   "metadata": {},
   "source": [
    "The recursive fibonacci(n) function works because it mirrors the mathematical definition of the Fibonacci sequence, where each term is the sum of the two preceding ones. By reducing the problem into smaller subproblems and using base cases to stop, recursion builds the solution from the ground up."
   ]
  }
 ],
 "metadata": {
  "language_info": {
   "name": "python"
  }
 },
 "nbformat": 4,
 "nbformat_minor": 5
}
