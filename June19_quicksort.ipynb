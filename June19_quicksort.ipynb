{
 "cells": [
  {
   "cell_type": "code",
   "execution_count": 1,
   "id": "0a60d8b6",
   "metadata": {},
   "outputs": [
    {
     "name": "stdout",
     "output_type": "stream",
     "text": [
      "1 5 7 8 9 10 "
     ]
    }
   ],
   "source": [
    "def partition(arr, low, high):\n",
    "    \n",
    "    pivot = arr[high]\n",
    "    i = low - 1\n",
    "    \n",
    "    for j in range(low, high):\n",
    "        if arr[j] < pivot:\n",
    "            i += 1\n",
    "            swap(arr, i, j)\n",
    "    \n",
    "    swap(arr, i + 1, high)\n",
    "    return i + 1\n",
    "\n",
    "def swap(arr, i, j):\n",
    "    arr[i], arr[j] = arr[j], arr[i]\n",
    "\n",
    "def quickSort(arr, low, high):\n",
    "    if low < high:\n",
    "        pi = partition(arr, low, high)\n",
    "        quickSort(arr, low, pi - 1)\n",
    "        quickSort(arr, pi + 1, high)\n",
    "\n",
    "#test code\n",
    "if __name__ == \"__main__\":\n",
    "    arr = [10, 7, 8, 9, 1, 5]\n",
    "    n = len(arr)\n",
    "\n",
    "    quickSort(arr, 0, n - 1)\n",
    "    \n",
    "    for val in arr:\n",
    "        print(val, end=\" \")"
   ]
  },
  {
   "cell_type": "markdown",
   "id": "aa58971c",
   "metadata": {},
   "source": [
    "Quick sort basically picks a pivot and then puts everything smaller on one side and everything bigger on the other. When the pivot lands somewhere near the middle (which happens most of the time if the data isn’t already sorted), we get a good balance and the whole thing runs in O(n log n) time—this is the best and average case. But if the pivot ends up being the smallest or largest element every time,like with already sorted or reverse-sorted arrays,it keeps making one big side and one empty side, which means it goes all the way down the list and ends up taking O(n²) time in the worst case. So yeah, it’s fast most of the time, but bad pivot choices can really slow it down."
   ]
  }
 ],
 "metadata": {
  "kernelspec": {
   "display_name": "base",
   "language": "python",
   "name": "python3"
  },
  "language_info": {
   "codemirror_mode": {
    "name": "ipython",
    "version": 3
   },
   "file_extension": ".py",
   "mimetype": "text/x-python",
   "name": "python",
   "nbconvert_exporter": "python",
   "pygments_lexer": "ipython3",
   "version": "3.12.4"
  }
 },
 "nbformat": 4,
 "nbformat_minor": 5
}
