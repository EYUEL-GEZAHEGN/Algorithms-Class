{
 "cells": [
  {
   "cell_type": "code",
   "execution_count": null,
   "id": "d449f014",
   "metadata": {},
   "outputs": [],
   "source": [
    "class Node:\n",
    "    def __init__(self, val):\n",
    "        self.val = val\n",
    "        self.left = None\n",
    "        self.right = None\n",
    "        \n",
    "def height(node):\n",
    "    if node is None:\n",
    "        return -1\n",
    "    return 1 + max(height(node.left), height(node.right))"
   ]
  },
  {
   "cell_type": "markdown",
   "id": "3b196692",
   "metadata": {},
   "source": [
    "The function checks each node and goes down both left and right subtrees. In the worst case where the tree is a straight line , this takes O(n). In the best case of a balanced tree, the time is O(log n)."
   ]
  }
 ],
 "metadata": {
  "language_info": {
   "name": "python"
  }
 },
 "nbformat": 4,
 "nbformat_minor": 5
}
